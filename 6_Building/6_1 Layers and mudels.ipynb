{
 "cells": [
  {
   "cell_type": "code",
   "id": "initial_id",
   "metadata": {
    "collapsed": true,
    "ExecuteTime": {
     "end_time": "2024-10-16T08:19:46.198404Z",
     "start_time": "2024-10-16T08:19:44.278088Z"
    }
   },
   "source": [
    "import torch\n",
    "from torch import nn\n",
    "from torch.nn import functional as F\n"
   ],
   "outputs": [],
   "execution_count": 1
  },
  {
   "metadata": {
    "ExecuteTime": {
     "end_time": "2024-10-16T08:21:35.245596Z",
     "start_time": "2024-10-16T08:21:35.231593Z"
    }
   },
   "cell_type": "code",
   "source": "net = nn.Sequential(nn.Flatten(), nn.LazyLinear(256), nn.ReLU(), nn.LazyLinear(10))",
   "id": "bb01cd2d8f368a1c",
   "outputs": [],
   "execution_count": 6
  },
  {
   "metadata": {
    "ExecuteTime": {
     "end_time": "2024-10-16T08:21:35.589206Z",
     "start_time": "2024-10-16T08:21:35.564316Z"
    }
   },
   "cell_type": "code",
   "source": [
    "X = torch.rand(2, 20)\n",
    "net(X).shape"
   ],
   "id": "444a87a970cd6c62",
   "outputs": [
    {
     "data": {
      "text/plain": [
       "torch.Size([2, 10])"
      ]
     },
     "execution_count": 7,
     "metadata": {},
     "output_type": "execute_result"
    }
   ],
   "execution_count": 7
  },
  {
   "metadata": {
    "ExecuteTime": {
     "end_time": "2024-10-16T08:27:09.915762Z",
     "start_time": "2024-10-16T08:27:09.907735Z"
    }
   },
   "cell_type": "code",
   "source": [
    "class NLP(nn.Module):\n",
    "    def __init__(self, num_hidden=256, num_output=10):\n",
    "        super().__init__()\n",
    "        self.fl = nn.Flatten()\n",
    "        self.ln1 = nn.LazyLinear(num_hidden)\n",
    "        self.ln2 = nn.LazyLinear(num_output)\n",
    "    def forward(self, X):\n",
    "        H1 = F.relu(self.ln1(self.fl(X)))\n",
    "        return self.ln2(H1)"
   ],
   "id": "c8db52a5ff5fe0",
   "outputs": [],
   "execution_count": 11
  },
  {
   "metadata": {
    "ExecuteTime": {
     "end_time": "2024-10-16T08:27:10.310323Z",
     "start_time": "2024-10-16T08:27:10.291324Z"
    }
   },
   "cell_type": "code",
   "source": [
    "net1 = NLP()\n",
    "net1(X).shape"
   ],
   "id": "f5753de579519f89",
   "outputs": [
    {
     "data": {
      "text/plain": [
       "torch.Size([2, 10])"
      ]
     },
     "execution_count": 12,
     "metadata": {},
     "output_type": "execute_result"
    }
   ],
   "execution_count": 12
  },
  {
   "metadata": {
    "ExecuteTime": {
     "end_time": "2024-10-16T08:32:39.402848Z",
     "start_time": "2024-10-16T08:32:39.393442Z"
    }
   },
   "cell_type": "code",
   "source": [
    "class MySequential(nn.Module):\n",
    "    def __init__(self, *args):\n",
    "        super().__init__()\n",
    "        for idx, modul in enumerate(args):\n",
    "            self.add_module(str(idx), modul)\n",
    "    def forward(self, X):\n",
    "        for modul in self.children():\n",
    "            X = modul(X)\n",
    "        return X"
   ],
   "id": "d2c78d184eb5a97d",
   "outputs": [],
   "execution_count": 14
  },
  {
   "metadata": {
    "ExecuteTime": {
     "end_time": "2024-10-16T08:32:48.167326Z",
     "start_time": "2024-10-16T08:32:48.155837Z"
    }
   },
   "cell_type": "code",
   "source": [
    "net = MySequential(nn.LazyLinear(256), nn.ReLU(), nn.LazyLinear(10))\n",
    "net(X).shape"
   ],
   "id": "51c5b93f85828cfd",
   "outputs": [
    {
     "data": {
      "text/plain": [
       "torch.Size([2, 10])"
      ]
     },
     "execution_count": 16,
     "metadata": {},
     "output_type": "execute_result"
    }
   ],
   "execution_count": 16
  },
  {
   "metadata": {
    "ExecuteTime": {
     "end_time": "2024-10-16T08:35:53.347938Z",
     "start_time": "2024-10-16T08:35:53.333940Z"
    }
   },
   "cell_type": "code",
   "source": [
    "class FixedHiddenMLP(nn.Module):\n",
    "    def __init__(self):\n",
    "        super().__init__()\n",
    "        self.rand_w = torch.rand((20, 20))\n",
    "        self.linear = nn.LazyLinear(20)\n",
    "    \n",
    "    def forward(self, X):\n",
    "        X = self.linear(X)\n",
    "        X = F.relu(X @ self.rand_w + 1)\n",
    "        X = self.linear(X)\n",
    "        while X.abs().sum() > 1:\n",
    "            X /= 2\n",
    "        return X.sum()"
   ],
   "id": "d91d82b24dc3664d",
   "outputs": [],
   "execution_count": 17
  },
  {
   "metadata": {
    "ExecuteTime": {
     "end_time": "2024-10-16T08:37:04.635979Z",
     "start_time": "2024-10-16T08:37:04.615796Z"
    }
   },
   "cell_type": "code",
   "source": [
    "net = FixedHiddenMLP()\n",
    "net(X)"
   ],
   "id": "224dbe6309ba7da0",
   "outputs": [
    {
     "data": {
      "text/plain": [
       "tensor(0.2494, grad_fn=<SumBackward0>)"
      ]
     },
     "execution_count": 19,
     "metadata": {},
     "output_type": "execute_result"
    }
   ],
   "execution_count": 19
  },
  {
   "metadata": {
    "ExecuteTime": {
     "end_time": "2024-10-16T08:39:13.570278Z",
     "start_time": "2024-10-16T08:39:13.553279Z"
    }
   },
   "cell_type": "code",
   "source": [
    "class NestMLP(nn.Module):\n",
    "    def __init__(self):\n",
    "        super().__init__()\n",
    "        self.net = nn.Sequential(\n",
    "            nn.LazyLinear(64),\n",
    "            nn.ReLU(),\n",
    "            nn.LazyLinear(32),\n",
    "            nn.ReLU())\n",
    "        self.linear = nn.LazyLinear(16)\n",
    "        \n",
    "    def forward(self, X):\n",
    "        return self.linear(X)"
   ],
   "id": "a86b668b1adb0f8b",
   "outputs": [],
   "execution_count": 22
  },
  {
   "metadata": {
    "ExecuteTime": {
     "end_time": "2024-10-16T08:39:13.756700Z",
     "start_time": "2024-10-16T08:39:13.741699Z"
    }
   },
   "cell_type": "code",
   "source": [
    "chimera = nn.Sequential(NestMLP(), nn.LazyLinear(20), FixedHiddenMLP())\n",
    "chimera(X)"
   ],
   "id": "86edc8822ceb0e39",
   "outputs": [
    {
     "data": {
      "text/plain": [
       "tensor(-0.2656, grad_fn=<SumBackward0>)"
      ]
     },
     "execution_count": 23,
     "metadata": {},
     "output_type": "execute_result"
    }
   ],
   "execution_count": 23
  },
  {
   "metadata": {},
   "cell_type": "code",
   "outputs": [],
   "execution_count": null,
   "source": "",
   "id": "75a4517039ee1ac7"
  }
 ],
 "metadata": {
  "kernelspec": {
   "display_name": "Python 3",
   "language": "python",
   "name": "python3"
  },
  "language_info": {
   "codemirror_mode": {
    "name": "ipython",
    "version": 2
   },
   "file_extension": ".py",
   "mimetype": "text/x-python",
   "name": "python",
   "nbconvert_exporter": "python",
   "pygments_lexer": "ipython2",
   "version": "2.7.6"
  }
 },
 "nbformat": 4,
 "nbformat_minor": 5
}
