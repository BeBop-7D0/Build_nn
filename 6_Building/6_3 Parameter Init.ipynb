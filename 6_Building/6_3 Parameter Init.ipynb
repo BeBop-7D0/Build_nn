{
 "cells": [
  {
   "cell_type": "code",
   "id": "initial_id",
   "metadata": {
    "collapsed": true,
    "ExecuteTime": {
     "end_time": "2024-10-16T08:57:29.876772Z",
     "start_time": "2024-10-16T08:57:27.920006Z"
    }
   },
   "source": [
    "import torch\n",
    "from torch import nn"
   ],
   "outputs": [],
   "execution_count": 2
  },
  {
   "metadata": {
    "ExecuteTime": {
     "end_time": "2024-10-16T09:13:49.405311Z",
     "start_time": "2024-10-16T09:13:49.377714Z"
    }
   },
   "cell_type": "code",
   "source": [
    "net = nn.Sequential(\n",
    "    nn.LazyLinear(8),\n",
    "    nn.ReLU(),\n",
    "    nn.LazyLinear(1)\n",
    ")\n",
    "X = torch.rand((2, 4))\n",
    "net(X).shape"
   ],
   "id": "1526e4d2e352ce71",
   "outputs": [
    {
     "data": {
      "text/plain": [
       "torch.Size([2, 1])"
      ]
     },
     "execution_count": 3,
     "metadata": {},
     "output_type": "execute_result"
    }
   ],
   "execution_count": 3
  },
  {
   "metadata": {
    "ExecuteTime": {
     "end_time": "2024-10-16T09:16:21.761201Z",
     "start_time": "2024-10-16T09:16:21.741173Z"
    }
   },
   "cell_type": "code",
   "source": [
    "def init_normal(modul):\n",
    "    if type(modul) == nn.Linear:\n",
    "        nn.init.normal_(modul.weight, mean=0, std=0.01)\n",
    "        nn.init.zeros_(modul.bias)\n",
    "net.apply(init_normal)\n",
    "net[0].weight.data[0], net[0].bias.data[0]"
   ],
   "id": "5e66507cfca8263c",
   "outputs": [
    {
     "data": {
      "text/plain": [
       "(tensor([-0.0065,  0.0024,  0.0043, -0.0056]), tensor(0.))"
      ]
     },
     "execution_count": 7,
     "metadata": {},
     "output_type": "execute_result"
    }
   ],
   "execution_count": 7
  },
  {
   "metadata": {
    "ExecuteTime": {
     "end_time": "2024-10-16T09:18:20.794169Z",
     "start_time": "2024-10-16T09:18:20.769168Z"
    }
   },
   "cell_type": "code",
   "source": [
    "def init_constant(modul):\n",
    "    if type(modul) == nn.Linear:\n",
    "        nn.init.constant_(modul.weight, 1)\n",
    "        nn.init.zeros_(modul.bias)\n",
    "net.apply(init_constant)\n",
    "net[0].weight.data[0], net[0 ].bias.data[0]"
   ],
   "id": "f4b4e4d1a90268b2",
   "outputs": [
    {
     "data": {
      "text/plain": [
       "(tensor([1., 1., 1., 1.]), tensor(0.))"
      ]
     },
     "execution_count": 8,
     "metadata": {},
     "output_type": "execute_result"
    }
   ],
   "execution_count": 8
  },
  {
   "metadata": {
    "ExecuteTime": {
     "end_time": "2024-10-16T09:20:31.221645Z",
     "start_time": "2024-10-16T09:20:31.206645Z"
    }
   },
   "cell_type": "code",
   "source": [
    "def init_xavier(modul):\n",
    "     if type(modul) == nn.Linear:\n",
    "        nn.init.xavier_uniform_(modul.weight)\n",
    "def init_42(modul):\n",
    "     if type(modul) == nn.Linear:\n",
    "        nn.init.constant_(modul.weight, 42)\n",
    "\n",
    "net[0].apply(init_xavier)\n",
    "net[2].apply(init_42)\n",
    "print(net[0].weight.data[0])\n",
    "print(net[2].weight.data[0])"
   ],
   "id": "d7904d681f5c43ac",
   "outputs": [
    {
     "name": "stdout",
     "output_type": "stream",
     "text": [
      "tensor([-0.1346,  0.2878,  0.5647, -0.5422])\n",
      "tensor([42., 42., 42., 42., 42., 42., 42., 42.])\n"
     ]
    }
   ],
   "execution_count": 9
  },
  {
   "metadata": {
    "ExecuteTime": {
     "end_time": "2024-10-16T09:23:57.474696Z",
     "start_time": "2024-10-16T09:23:57.449701Z"
    }
   },
   "cell_type": "code",
   "source": [
    "def my_init(modul):\n",
    "    if type(modul) == nn.Linear:\n",
    "        print(f\"Init\", *[(name, param.shape) for name, param in modul.named_parameters()][0])\n",
    "        \n",
    "        nn.init.uniform_(modul.weight, -10, 10)\n",
    "        modul.weight.data *= modul.weight.data.abs() >= 5\n",
    "net.apply(my_init)\n",
    "net[0].weight[:2]"
   ],
   "id": "f1470f4e62f76879",
   "outputs": [
    {
     "name": "stdout",
     "output_type": "stream",
     "text": [
      "Init weight torch.Size([8, 4])\n",
      "Init weight torch.Size([1, 8])\n"
     ]
    },
    {
     "data": {
      "text/plain": [
       "tensor([[ 8.4696,  0.0000, -0.0000, -0.0000],\n",
       "        [-0.0000,  0.0000, -5.0438, -0.0000]], grad_fn=<SliceBackward0>)"
      ]
     },
     "execution_count": 10,
     "metadata": {},
     "output_type": "execute_result"
    }
   ],
   "execution_count": 10
  },
  {
   "metadata": {},
   "cell_type": "code",
   "outputs": [],
   "execution_count": null,
   "source": "",
   "id": "301034f1e19fe81f"
  }
 ],
 "metadata": {
  "kernelspec": {
   "display_name": "Python 3",
   "language": "python",
   "name": "python3"
  },
  "language_info": {
   "codemirror_mode": {
    "name": "ipython",
    "version": 2
   },
   "file_extension": ".py",
   "mimetype": "text/x-python",
   "name": "python",
   "nbconvert_exporter": "python",
   "pygments_lexer": "ipython2",
   "version": "2.7.6"
  }
 },
 "nbformat": 4,
 "nbformat_minor": 5
}
