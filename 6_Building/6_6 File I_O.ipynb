{
 "cells": [
  {
   "cell_type": "code",
   "id": "initial_id",
   "metadata": {
    "collapsed": true,
    "ExecuteTime": {
     "end_time": "2024-10-16T09:47:00.952623Z",
     "start_time": "2024-10-16T09:46:58.048493Z"
    }
   },
   "source": [
    "import torch\n",
    "from torch import nn\n",
    "from torch.nn import functional as F"
   ],
   "outputs": [],
   "execution_count": 1
  },
  {
   "metadata": {
    "ExecuteTime": {
     "end_time": "2024-10-16T09:48:40.383629Z",
     "start_time": "2024-10-16T09:48:40.363643Z"
    }
   },
   "cell_type": "code",
   "source": [
    "path = 'My_data/'\n",
    "x = torch.arange(4)\n",
    "x"
   ],
   "id": "59a17a6d9d7215e4",
   "outputs": [
    {
     "data": {
      "text/plain": [
       "tensor([0, 1, 2, 3])"
      ]
     },
     "execution_count": 4,
     "metadata": {},
     "output_type": "execute_result"
    }
   ],
   "execution_count": 4
  },
  {
   "metadata": {
    "ExecuteTime": {
     "end_time": "2024-10-16T09:50:44.039449Z",
     "start_time": "2024-10-16T09:50:44.019754Z"
    }
   },
   "cell_type": "code",
   "source": "torch.save(x, path + 'x-file')",
   "id": "57a26f29c829fd9f",
   "outputs": [],
   "execution_count": 6
  },
  {
   "metadata": {
    "ExecuteTime": {
     "end_time": "2024-10-16T11:50:45.543511Z",
     "start_time": "2024-10-16T11:50:45.522510Z"
    }
   },
   "cell_type": "code",
   "source": [
    "x2 = torch.load(path+'x-file', weights_only=True)\n",
    "x2"
   ],
   "id": "812e9b37e7a5cb90",
   "outputs": [
    {
     "data": {
      "text/plain": [
       "tensor([0, 1, 2, 3])"
      ]
     },
     "execution_count": 8,
     "metadata": {},
     "output_type": "execute_result"
    }
   ],
   "execution_count": 8
  },
  {
   "metadata": {
    "ExecuteTime": {
     "end_time": "2024-10-16T11:51:30.052607Z",
     "start_time": "2024-10-16T11:51:30.036607Z"
    }
   },
   "cell_type": "code",
   "source": [
    "y = torch.zeros(4)\n",
    "torch.save([x, y], path + 'x-file')"
   ],
   "id": "4ac1221b38ee1058",
   "outputs": [],
   "execution_count": 9
  },
  {
   "metadata": {
    "ExecuteTime": {
     "end_time": "2024-10-16T11:52:57.274918Z",
     "start_time": "2024-10-16T11:52:57.265916Z"
    }
   },
   "cell_type": "code",
   "source": "x2, y2 = torch.load(path + 'x-file', weights_only=True)",
   "id": "6748f64f1556c8e7",
   "outputs": [],
   "execution_count": 12
  },
  {
   "metadata": {
    "ExecuteTime": {
     "end_time": "2024-10-16T11:53:01.700835Z",
     "start_time": "2024-10-16T11:53:01.675839Z"
    }
   },
   "cell_type": "code",
   "source": "x2, y2",
   "id": "9e7c3bdb579d2dfe",
   "outputs": [
    {
     "data": {
      "text/plain": [
       "(tensor([0, 1, 2, 3]), tensor([0., 0., 0., 0.]))"
      ]
     },
     "execution_count": 13,
     "metadata": {},
     "output_type": "execute_result"
    }
   ],
   "execution_count": 13
  },
  {
   "metadata": {
    "ExecuteTime": {
     "end_time": "2024-10-16T11:54:29.456798Z",
     "start_time": "2024-10-16T11:54:29.442785Z"
    }
   },
   "cell_type": "code",
   "source": [
    "my_dict = {'x':x, 'y':y}\n",
    "torch.save(my_dict, path+'mydict')\n",
    "my_dict2 = torch.load(path+'mydict', weights_only=True)"
   ],
   "id": "6a500ddd0bf0889d",
   "outputs": [],
   "execution_count": 14
  },
  {
   "metadata": {
    "ExecuteTime": {
     "end_time": "2024-10-16T11:54:32.546955Z",
     "start_time": "2024-10-16T11:54:32.533959Z"
    }
   },
   "cell_type": "code",
   "source": "my_dict2",
   "id": "a3f20af5d335fe7c",
   "outputs": [
    {
     "data": {
      "text/plain": [
       "{'x': tensor([0, 1, 2, 3]), 'y': tensor([0., 0., 0., 0.])}"
      ]
     },
     "execution_count": 15,
     "metadata": {},
     "output_type": "execute_result"
    }
   ],
   "execution_count": 15
  },
  {
   "metadata": {
    "ExecuteTime": {
     "end_time": "2024-10-16T11:57:14.436316Z",
     "start_time": "2024-10-16T11:57:14.420311Z"
    }
   },
   "cell_type": "code",
   "source": [
    "class MLP(nn.Module):\n",
    "    def __init__(self):\n",
    "        super().__init__()\n",
    "        self.hidden = nn.LazyLinear(256)\n",
    "        self.output = nn.LazyLinear(10)\n",
    "    def forward(self, X):\n",
    "        return self.output(F.relu(self.hidden(X)))"
   ],
   "id": "4203cc25eb38c810",
   "outputs": [],
   "execution_count": 18
  },
  {
   "metadata": {
    "ExecuteTime": {
     "end_time": "2024-10-16T11:59:42.602954Z",
     "start_time": "2024-10-16T11:59:42.586956Z"
    }
   },
   "cell_type": "code",
   "source": [
    "net = MLP()\n",
    "X = torch.rand(size=(2, 10))\n",
    "Y = net(X)"
   ],
   "id": "7dda1f361841c888",
   "outputs": [],
   "execution_count": 26
  },
  {
   "metadata": {
    "ExecuteTime": {
     "end_time": "2024-10-16T11:59:42.794953Z",
     "start_time": "2024-10-16T11:59:42.777956Z"
    }
   },
   "cell_type": "code",
   "source": "torch.save(net.state_dict(), 'mlp.params')",
   "id": "6b429f21dfaa7473",
   "outputs": [],
   "execution_count": 27
  },
  {
   "metadata": {
    "ExecuteTime": {
     "end_time": "2024-10-16T11:59:42.978735Z",
     "start_time": "2024-10-16T11:59:42.966602Z"
    }
   },
   "cell_type": "code",
   "source": [
    "clone = MLP()\n",
    "clone.load_state_dict(torch.load('mlp.params', weights_only=True))"
   ],
   "id": "78b4f66055a48e96",
   "outputs": [
    {
     "data": {
      "text/plain": [
       "<All keys matched successfully>"
      ]
     },
     "execution_count": 28,
     "metadata": {},
     "output_type": "execute_result"
    }
   ],
   "execution_count": 28
  },
  {
   "metadata": {
    "ExecuteTime": {
     "end_time": "2024-10-16T11:59:43.180772Z",
     "start_time": "2024-10-16T11:59:43.168780Z"
    }
   },
   "cell_type": "code",
   "source": "clone.eval()",
   "id": "59d04d3f4c138520",
   "outputs": [
    {
     "data": {
      "text/plain": [
       "MLP(\n",
       "  (hidden): LazyLinear(in_features=0, out_features=256, bias=True)\n",
       "  (output): LazyLinear(in_features=0, out_features=10, bias=True)\n",
       ")"
      ]
     },
     "execution_count": 29,
     "metadata": {},
     "output_type": "execute_result"
    }
   ],
   "execution_count": 29
  },
  {
   "metadata": {
    "ExecuteTime": {
     "end_time": "2024-10-16T11:59:43.415121Z",
     "start_time": "2024-10-16T11:59:43.398126Z"
    }
   },
   "cell_type": "code",
   "source": [
    "y_clone = clone(X)\n",
    "y_clone == Y"
   ],
   "id": "8d50884e574db023",
   "outputs": [
    {
     "data": {
      "text/plain": [
       "tensor([[True, True, True, True, True, True, True, True, True, True],\n",
       "        [True, True, True, True, True, True, True, True, True, True]])"
      ]
     },
     "execution_count": 30,
     "metadata": {},
     "output_type": "execute_result"
    }
   ],
   "execution_count": 30
  },
  {
   "metadata": {},
   "cell_type": "code",
   "outputs": [],
   "execution_count": null,
   "source": "",
   "id": "e96e545d64094ac9"
  }
 ],
 "metadata": {
  "kernelspec": {
   "display_name": "Python 3",
   "language": "python",
   "name": "python3"
  },
  "language_info": {
   "codemirror_mode": {
    "name": "ipython",
    "version": 2
   },
   "file_extension": ".py",
   "mimetype": "text/x-python",
   "name": "python",
   "nbconvert_exporter": "python",
   "pygments_lexer": "ipython2",
   "version": "2.7.6"
  }
 },
 "nbformat": 4,
 "nbformat_minor": 5
}
