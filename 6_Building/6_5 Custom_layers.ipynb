{
 "cells": [
  {
   "cell_type": "code",
   "id": "initial_id",
   "metadata": {
    "collapsed": true,
    "ExecuteTime": {
     "end_time": "2024-10-16T09:30:54.436461Z",
     "start_time": "2024-10-16T09:30:50.247020Z"
    }
   },
   "source": [
    "import torch\n",
    "from torch import nn\n",
    "from torch.nn import functional as F\n",
    "from d2l import torch as d2l"
   ],
   "outputs": [],
   "execution_count": 1
  },
  {
   "metadata": {
    "ExecuteTime": {
     "end_time": "2024-10-16T09:32:07.971913Z",
     "start_time": "2024-10-16T09:32:07.954757Z"
    }
   },
   "cell_type": "code",
   "source": [
    "class CenteredLayer(nn.Module):\n",
    "    def __init__(self):\n",
    "        super().__init__()\n",
    "    \n",
    "    def forward(self, X):\n",
    "        return X - X.mean()"
   ],
   "id": "4b4511d4256475d5",
   "outputs": [],
   "execution_count": 2
  },
  {
   "metadata": {
    "ExecuteTime": {
     "end_time": "2024-10-16T09:32:32.529151Z",
     "start_time": "2024-10-16T09:32:32.511151Z"
    }
   },
   "cell_type": "code",
   "source": [
    "layer = CenteredLayer()\n",
    "layer(torch.tensor([1.0, 2, 3, 4, 5]))"
   ],
   "id": "1239f3863d4ca9b0",
   "outputs": [
    {
     "data": {
      "text/plain": [
       "tensor([-2., -1.,  0.,  1.,  2.])"
      ]
     },
     "execution_count": 3,
     "metadata": {},
     "output_type": "execute_result"
    }
   ],
   "execution_count": 3
  },
  {
   "metadata": {
    "ExecuteTime": {
     "end_time": "2024-10-16T09:33:34.454567Z",
     "start_time": "2024-10-16T09:33:34.435566Z"
    }
   },
   "cell_type": "code",
   "source": [
    "net = nn.Sequential(nn.LazyLinear(128), CenteredLayer())\n",
    "Y = net(torch.rand(8, 10))\n",
    "Y.mean()"
   ],
   "id": "295aed515444ce40",
   "outputs": [
    {
     "data": {
      "text/plain": [
       "tensor(1.8626e-09, grad_fn=<MeanBackward0>)"
      ]
     },
     "execution_count": 5,
     "metadata": {},
     "output_type": "execute_result"
    }
   ],
   "execution_count": 5
  },
  {
   "metadata": {
    "ExecuteTime": {
     "end_time": "2024-10-16T09:40:10.516190Z",
     "start_time": "2024-10-16T09:40:10.497501Z"
    }
   },
   "cell_type": "code",
   "source": [
    "class MyLinear(nn.Module):\n",
    "    def __init__(self, in_units, units):\n",
    "        super().__init__()\n",
    "        self.weight = nn.Parameter(torch.rand((in_units, units)))\n",
    "        self.bias = nn.Parameter(torch.zeros((units, )))\n",
    "    \n",
    "    def forward(self, X):\n",
    "        linear = torch.matmul(X, self.weight.data) + self.bias.data\n",
    "        return F.relu(linear)"
   ],
   "id": "55e1cf8c7d13dc86",
   "outputs": [],
   "execution_count": 15
  },
  {
   "metadata": {
    "ExecuteTime": {
     "end_time": "2024-10-16T09:40:10.721154Z",
     "start_time": "2024-10-16T09:40:10.699966Z"
    }
   },
   "cell_type": "code",
   "source": [
    "linear = MyLinear(in_units=5, units=3)\n",
    "linear.weight"
   ],
   "id": "66ff7095e6b4cbeb",
   "outputs": [
    {
     "data": {
      "text/plain": [
       "Parameter containing:\n",
       "tensor([[0.1256, 0.4268, 0.3583],\n",
       "        [0.3929, 0.2278, 0.8615],\n",
       "        [0.3595, 0.2987, 0.6767],\n",
       "        [0.5393, 0.0552, 0.1679],\n",
       "        [0.4240, 0.8483, 0.1538]], requires_grad=True)"
      ]
     },
     "execution_count": 16,
     "metadata": {},
     "output_type": "execute_result"
    }
   ],
   "execution_count": 16
  },
  {
   "metadata": {
    "ExecuteTime": {
     "end_time": "2024-10-16T09:40:11.127116Z",
     "start_time": "2024-10-16T09:40:11.102989Z"
    }
   },
   "cell_type": "code",
   "source": "linear(torch.rand(2, 5))",
   "id": "95036fed7492daaa",
   "outputs": [
    {
     "data": {
      "text/plain": [
       "tensor([[0.9821, 0.7527, 1.1809],\n",
       "        [0.6410, 0.8661, 0.4835]])"
      ]
     },
     "execution_count": 17,
     "metadata": {},
     "output_type": "execute_result"
    }
   ],
   "execution_count": 17
  },
  {
   "metadata": {
    "ExecuteTime": {
     "end_time": "2024-10-16T09:41:04.592813Z",
     "start_time": "2024-10-16T09:41:04.570779Z"
    }
   },
   "cell_type": "code",
   "source": [
    "net = nn.Sequential(MyLinear(64, 8), MyLinear(8, 1))\n",
    "net(torch.rand(2, 64))"
   ],
   "id": "b7debd1968a78bc8",
   "outputs": [
    {
     "data": {
      "text/plain": [
       "tensor([[94.2251],\n",
       "        [86.2843]])"
      ]
     },
     "execution_count": 18,
     "metadata": {},
     "output_type": "execute_result"
    }
   ],
   "execution_count": 18
  },
  {
   "metadata": {},
   "cell_type": "code",
   "outputs": [],
   "execution_count": null,
   "source": "",
   "id": "d0beb897037790a4"
  }
 ],
 "metadata": {
  "kernelspec": {
   "display_name": "Python 3",
   "language": "python",
   "name": "python3"
  },
  "language_info": {
   "codemirror_mode": {
    "name": "ipython",
    "version": 2
   },
   "file_extension": ".py",
   "mimetype": "text/x-python",
   "name": "python",
   "nbconvert_exporter": "python",
   "pygments_lexer": "ipython2",
   "version": "2.7.6"
  }
 },
 "nbformat": 4,
 "nbformat_minor": 5
}
